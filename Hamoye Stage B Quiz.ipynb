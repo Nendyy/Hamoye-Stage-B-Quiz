{
 "cells": [
  {
   "cell_type": "markdown",
   "id": "f87e4690",
   "metadata": {},
   "source": [
    "<h2 style='text-align: center;'> Hamoye Stage B Quiz Questions </h2>"
   ]
  },
  {
   "cell_type": "code",
   "execution_count": 1,
   "id": "58a2c471",
   "metadata": {},
   "outputs": [],
   "source": [
    "import pandas as pd\n",
    "import numpy as np"
   ]
  },
  {
   "cell_type": "code",
   "execution_count": 2,
   "id": "25686ad2",
   "metadata": {},
   "outputs": [],
   "source": [
    "# reading the dataset to a pandas dataframe\n",
    "data = pd.read_csv('energydata_complete.csv')"
   ]
  },
  {
   "cell_type": "code",
   "execution_count": 3,
   "id": "424fd64c",
   "metadata": {},
   "outputs": [
    {
     "data": {
      "text/html": [
       "<div>\n",
       "<style scoped>\n",
       "    .dataframe tbody tr th:only-of-type {\n",
       "        vertical-align: middle;\n",
       "    }\n",
       "\n",
       "    .dataframe tbody tr th {\n",
       "        vertical-align: top;\n",
       "    }\n",
       "\n",
       "    .dataframe thead th {\n",
       "        text-align: right;\n",
       "    }\n",
       "</style>\n",
       "<table border=\"1\" class=\"dataframe\">\n",
       "  <thead>\n",
       "    <tr style=\"text-align: right;\">\n",
       "      <th></th>\n",
       "      <th>date</th>\n",
       "      <th>Appliances</th>\n",
       "      <th>lights</th>\n",
       "      <th>T1</th>\n",
       "      <th>RH_1</th>\n",
       "      <th>T2</th>\n",
       "      <th>RH_2</th>\n",
       "      <th>T3</th>\n",
       "      <th>RH_3</th>\n",
       "      <th>T4</th>\n",
       "      <th>...</th>\n",
       "      <th>T9</th>\n",
       "      <th>RH_9</th>\n",
       "      <th>T_out</th>\n",
       "      <th>Press_mm_hg</th>\n",
       "      <th>RH_out</th>\n",
       "      <th>Windspeed</th>\n",
       "      <th>Visibility</th>\n",
       "      <th>Tdewpoint</th>\n",
       "      <th>rv1</th>\n",
       "      <th>rv2</th>\n",
       "    </tr>\n",
       "  </thead>\n",
       "  <tbody>\n",
       "    <tr>\n",
       "      <th>0</th>\n",
       "      <td>2016-01-11 17:00:00</td>\n",
       "      <td>60</td>\n",
       "      <td>30</td>\n",
       "      <td>19.89</td>\n",
       "      <td>47.596667</td>\n",
       "      <td>19.2</td>\n",
       "      <td>44.790000</td>\n",
       "      <td>19.79</td>\n",
       "      <td>44.730000</td>\n",
       "      <td>19.000000</td>\n",
       "      <td>...</td>\n",
       "      <td>17.033333</td>\n",
       "      <td>45.53</td>\n",
       "      <td>6.600000</td>\n",
       "      <td>733.5</td>\n",
       "      <td>92.0</td>\n",
       "      <td>7.000000</td>\n",
       "      <td>63.000000</td>\n",
       "      <td>5.3</td>\n",
       "      <td>13.275433</td>\n",
       "      <td>13.275433</td>\n",
       "    </tr>\n",
       "    <tr>\n",
       "      <th>1</th>\n",
       "      <td>2016-01-11 17:10:00</td>\n",
       "      <td>60</td>\n",
       "      <td>30</td>\n",
       "      <td>19.89</td>\n",
       "      <td>46.693333</td>\n",
       "      <td>19.2</td>\n",
       "      <td>44.722500</td>\n",
       "      <td>19.79</td>\n",
       "      <td>44.790000</td>\n",
       "      <td>19.000000</td>\n",
       "      <td>...</td>\n",
       "      <td>17.066667</td>\n",
       "      <td>45.56</td>\n",
       "      <td>6.483333</td>\n",
       "      <td>733.6</td>\n",
       "      <td>92.0</td>\n",
       "      <td>6.666667</td>\n",
       "      <td>59.166667</td>\n",
       "      <td>5.2</td>\n",
       "      <td>18.606195</td>\n",
       "      <td>18.606195</td>\n",
       "    </tr>\n",
       "    <tr>\n",
       "      <th>2</th>\n",
       "      <td>2016-01-11 17:20:00</td>\n",
       "      <td>50</td>\n",
       "      <td>30</td>\n",
       "      <td>19.89</td>\n",
       "      <td>46.300000</td>\n",
       "      <td>19.2</td>\n",
       "      <td>44.626667</td>\n",
       "      <td>19.79</td>\n",
       "      <td>44.933333</td>\n",
       "      <td>18.926667</td>\n",
       "      <td>...</td>\n",
       "      <td>17.000000</td>\n",
       "      <td>45.50</td>\n",
       "      <td>6.366667</td>\n",
       "      <td>733.7</td>\n",
       "      <td>92.0</td>\n",
       "      <td>6.333333</td>\n",
       "      <td>55.333333</td>\n",
       "      <td>5.1</td>\n",
       "      <td>28.642668</td>\n",
       "      <td>28.642668</td>\n",
       "    </tr>\n",
       "    <tr>\n",
       "      <th>3</th>\n",
       "      <td>2016-01-11 17:30:00</td>\n",
       "      <td>50</td>\n",
       "      <td>40</td>\n",
       "      <td>19.89</td>\n",
       "      <td>46.066667</td>\n",
       "      <td>19.2</td>\n",
       "      <td>44.590000</td>\n",
       "      <td>19.79</td>\n",
       "      <td>45.000000</td>\n",
       "      <td>18.890000</td>\n",
       "      <td>...</td>\n",
       "      <td>17.000000</td>\n",
       "      <td>45.40</td>\n",
       "      <td>6.250000</td>\n",
       "      <td>733.8</td>\n",
       "      <td>92.0</td>\n",
       "      <td>6.000000</td>\n",
       "      <td>51.500000</td>\n",
       "      <td>5.0</td>\n",
       "      <td>45.410389</td>\n",
       "      <td>45.410389</td>\n",
       "    </tr>\n",
       "    <tr>\n",
       "      <th>4</th>\n",
       "      <td>2016-01-11 17:40:00</td>\n",
       "      <td>60</td>\n",
       "      <td>40</td>\n",
       "      <td>19.89</td>\n",
       "      <td>46.333333</td>\n",
       "      <td>19.2</td>\n",
       "      <td>44.530000</td>\n",
       "      <td>19.79</td>\n",
       "      <td>45.000000</td>\n",
       "      <td>18.890000</td>\n",
       "      <td>...</td>\n",
       "      <td>17.000000</td>\n",
       "      <td>45.40</td>\n",
       "      <td>6.133333</td>\n",
       "      <td>733.9</td>\n",
       "      <td>92.0</td>\n",
       "      <td>5.666667</td>\n",
       "      <td>47.666667</td>\n",
       "      <td>4.9</td>\n",
       "      <td>10.084097</td>\n",
       "      <td>10.084097</td>\n",
       "    </tr>\n",
       "  </tbody>\n",
       "</table>\n",
       "<p>5 rows × 29 columns</p>\n",
       "</div>"
      ],
      "text/plain": [
       "                  date  Appliances  lights     T1       RH_1    T2       RH_2  \\\n",
       "0  2016-01-11 17:00:00          60      30  19.89  47.596667  19.2  44.790000   \n",
       "1  2016-01-11 17:10:00          60      30  19.89  46.693333  19.2  44.722500   \n",
       "2  2016-01-11 17:20:00          50      30  19.89  46.300000  19.2  44.626667   \n",
       "3  2016-01-11 17:30:00          50      40  19.89  46.066667  19.2  44.590000   \n",
       "4  2016-01-11 17:40:00          60      40  19.89  46.333333  19.2  44.530000   \n",
       "\n",
       "      T3       RH_3         T4  ...         T9   RH_9     T_out  Press_mm_hg  \\\n",
       "0  19.79  44.730000  19.000000  ...  17.033333  45.53  6.600000        733.5   \n",
       "1  19.79  44.790000  19.000000  ...  17.066667  45.56  6.483333        733.6   \n",
       "2  19.79  44.933333  18.926667  ...  17.000000  45.50  6.366667        733.7   \n",
       "3  19.79  45.000000  18.890000  ...  17.000000  45.40  6.250000        733.8   \n",
       "4  19.79  45.000000  18.890000  ...  17.000000  45.40  6.133333        733.9   \n",
       "\n",
       "   RH_out  Windspeed  Visibility  Tdewpoint        rv1        rv2  \n",
       "0    92.0   7.000000   63.000000        5.3  13.275433  13.275433  \n",
       "1    92.0   6.666667   59.166667        5.2  18.606195  18.606195  \n",
       "2    92.0   6.333333   55.333333        5.1  28.642668  28.642668  \n",
       "3    92.0   6.000000   51.500000        5.0  45.410389  45.410389  \n",
       "4    92.0   5.666667   47.666667        4.9  10.084097  10.084097  \n",
       "\n",
       "[5 rows x 29 columns]"
      ]
     },
     "execution_count": 3,
     "metadata": {},
     "output_type": "execute_result"
    }
   ],
   "source": [
    "data.head()"
   ]
  },
  {
   "cell_type": "code",
   "execution_count": 4,
   "id": "469c98b0",
   "metadata": {},
   "outputs": [
    {
     "name": "stdout",
     "output_type": "stream",
     "text": [
      "<class 'pandas.core.frame.DataFrame'>\n",
      "RangeIndex: 19735 entries, 0 to 19734\n",
      "Data columns (total 29 columns):\n",
      " #   Column       Non-Null Count  Dtype  \n",
      "---  ------       --------------  -----  \n",
      " 0   date         19735 non-null  object \n",
      " 1   Appliances   19735 non-null  int64  \n",
      " 2   lights       19735 non-null  int64  \n",
      " 3   T1           19735 non-null  float64\n",
      " 4   RH_1         19735 non-null  float64\n",
      " 5   T2           19735 non-null  float64\n",
      " 6   RH_2         19735 non-null  float64\n",
      " 7   T3           19735 non-null  float64\n",
      " 8   RH_3         19735 non-null  float64\n",
      " 9   T4           19735 non-null  float64\n",
      " 10  RH_4         19735 non-null  float64\n",
      " 11  T5           19735 non-null  float64\n",
      " 12  RH_5         19735 non-null  float64\n",
      " 13  T6           19735 non-null  float64\n",
      " 14  RH_6         19735 non-null  float64\n",
      " 15  T7           19735 non-null  float64\n",
      " 16  RH_7         19735 non-null  float64\n",
      " 17  T8           19735 non-null  float64\n",
      " 18  RH_8         19735 non-null  float64\n",
      " 19  T9           19735 non-null  float64\n",
      " 20  RH_9         19735 non-null  float64\n",
      " 21  T_out        19735 non-null  float64\n",
      " 22  Press_mm_hg  19735 non-null  float64\n",
      " 23  RH_out       19735 non-null  float64\n",
      " 24  Windspeed    19735 non-null  float64\n",
      " 25  Visibility   19735 non-null  float64\n",
      " 26  Tdewpoint    19735 non-null  float64\n",
      " 27  rv1          19735 non-null  float64\n",
      " 28  rv2          19735 non-null  float64\n",
      "dtypes: float64(26), int64(2), object(1)\n",
      "memory usage: 4.4+ MB\n"
     ]
    }
   ],
   "source": [
    "data.info()"
   ]
  },
  {
   "cell_type": "code",
   "execution_count": 5,
   "id": "97fd1b9c",
   "metadata": {},
   "outputs": [
    {
     "data": {
      "text/plain": [
       "date           0\n",
       "Appliances     0\n",
       "lights         0\n",
       "T1             0\n",
       "RH_1           0\n",
       "T2             0\n",
       "RH_2           0\n",
       "T3             0\n",
       "RH_3           0\n",
       "T4             0\n",
       "RH_4           0\n",
       "T5             0\n",
       "RH_5           0\n",
       "T6             0\n",
       "RH_6           0\n",
       "T7             0\n",
       "RH_7           0\n",
       "T8             0\n",
       "RH_8           0\n",
       "T9             0\n",
       "RH_9           0\n",
       "T_out          0\n",
       "Press_mm_hg    0\n",
       "RH_out         0\n",
       "Windspeed      0\n",
       "Visibility     0\n",
       "Tdewpoint      0\n",
       "rv1            0\n",
       "rv2            0\n",
       "dtype: int64"
      ]
     },
     "execution_count": 5,
     "metadata": {},
     "output_type": "execute_result"
    }
   ],
   "source": [
    "#check for missing values\n",
    "data.isna().sum()"
   ]
  },
  {
   "cell_type": "code",
   "execution_count": 6,
   "id": "ffca21a8",
   "metadata": {},
   "outputs": [
    {
     "data": {
      "text/plain": [
       "False"
      ]
     },
     "execution_count": 6,
     "metadata": {},
     "output_type": "execute_result"
    }
   ],
   "source": [
    "#check for duplicate values\n",
    "data.duplicated().any()"
   ]
  },
  {
   "cell_type": "markdown",
   "id": "ea4c333b",
   "metadata": {},
   "source": [
    "### Answering the quiz questions"
   ]
  },
  {
   "cell_type": "markdown",
   "id": "acbc085e",
   "metadata": {},
   "source": [
    "> From the dataset, fit a linear model on the relationship between the temperature in the living room in Celsius (x = T2) and the temperature outside the building (y = T6). What is the R^2 value in two d.p.? "
   ]
  },
  {
   "cell_type": "code",
   "execution_count": 7,
   "id": "1af0b9b4",
   "metadata": {},
   "outputs": [],
   "source": [
    "from sklearn.linear_model import LinearRegression\n",
    "from sklearn.metrics import r2_score\n",
    "\n",
    "X = data[['T2']]  # Independent variable (living room temperature)\n",
    "y = data['T6']  # Dependent variable (temperature outside the building)"
   ]
  },
  {
   "cell_type": "code",
   "execution_count": 8,
   "id": "22625a42",
   "metadata": {},
   "outputs": [
    {
     "data": {
      "text/plain": [
       "LinearRegression()"
      ]
     },
     "execution_count": 8,
     "metadata": {},
     "output_type": "execute_result"
    }
   ],
   "source": [
    "from sklearn.model_selection import train_test_split\n",
    "\n",
    "X_train, X_test, y_train, y_test = train_test_split(X, y, test_size = 0.3, random_state = 21)\n",
    "\n",
    "model = LinearRegression()\n",
    "\n",
    "# Fit the model to the data\n",
    "model.fit(X_train, y_train)"
   ]
  },
  {
   "cell_type": "code",
   "execution_count": 9,
   "id": "bbca89db",
   "metadata": {},
   "outputs": [
    {
     "name": "stdout",
     "output_type": "stream",
     "text": [
      "R^2 value: 0.64\n"
     ]
    }
   ],
   "source": [
    "y_pred = model.predict(X_test)\n",
    "r2 = r2_score(y_test, y_pred)\n",
    "\n",
    "print(f\"R^2 value: {r2:.2f}\")"
   ]
  },
  {
   "cell_type": "markdown",
   "id": "e86a1a5c",
   "metadata": {},
   "source": [
    "### Normalize the dataset using the MinMaxScaler after removing the following columns: [“date”, “lights”]. The target variable is “Appliances”. Use a 70-30 train-test set split with a random state of 42 (for reproducibility). Run a multiple linear regression using the training set and evaluate your model on the test set."
   ]
  },
  {
   "cell_type": "code",
   "execution_count": 10,
   "id": "8ff161db",
   "metadata": {},
   "outputs": [],
   "source": [
    "from sklearn.preprocessing import MinMaxScaler"
   ]
  },
  {
   "cell_type": "code",
   "execution_count": 11,
   "id": "7c3f672e",
   "metadata": {},
   "outputs": [],
   "source": [
    "columns_to_remove = [\"date\", \"lights\"]\n",
    "data_cleaned = data.drop(columns=columns_to_remove)"
   ]
  },
  {
   "cell_type": "code",
   "execution_count": 12,
   "id": "6376da9b",
   "metadata": {},
   "outputs": [],
   "source": [
    "scaler = MinMaxScaler()\n",
    "normalized_features = pd.DataFrame(scaler.fit_transform(data_cleaned), columns = data_cleaned.columns)\n",
    "\n",
    "target_variable = normalized_features['Appliances']\n",
    "features = normalized_features.drop('Appliances', axis = 1)\n",
    "\n",
    "# Split the dataset into train and test sets\n",
    "X_train, X_test, y_train, y_test = train_test_split(\n",
    "    features, target_variable,\n",
    "    test_size=0.3, random_state=42)"
   ]
  },
  {
   "cell_type": "code",
   "execution_count": 13,
   "id": "d8f6bd6f",
   "metadata": {},
   "outputs": [],
   "source": [
    "# Create an instance of the LinearRegression model\n",
    "model = LinearRegression()\n",
    "\n",
    "# Fit the model to the training data\n",
    "model.fit(X_train, y_train)\n",
    "\n",
    "# Make predictions on the test set\n",
    "y_pred = model.predict(X_test)"
   ]
  },
  {
   "cell_type": "markdown",
   "id": "ade980f7",
   "metadata": {},
   "source": [
    "> What is the Mean Absolute Error (in two decimal places)?"
   ]
  },
  {
   "cell_type": "code",
   "execution_count": 14,
   "id": "d15a6468",
   "metadata": {},
   "outputs": [
    {
     "name": "stdout",
     "output_type": "stream",
     "text": [
      "Mean Absolute Error: 0.05\n"
     ]
    }
   ],
   "source": [
    "from sklearn.metrics import mean_absolute_error\n",
    "\n",
    "# Calculate Mean Absolute Error\n",
    "mae = mean_absolute_error(y_test, y_pred)\n",
    "\n",
    "# Print the Mean Absolute Error rounded to two decimal places\n",
    "print(f\"Mean Absolute Error: {mae:.2f}\")"
   ]
  },
  {
   "cell_type": "markdown",
   "id": "759eaf0b",
   "metadata": {},
   "source": [
    "> What is the Residual Sum of Squares (in two decimal places)?"
   ]
  },
  {
   "cell_type": "code",
   "execution_count": 15,
   "id": "695c259e",
   "metadata": {},
   "outputs": [
    {
     "name": "stdout",
     "output_type": "stream",
     "text": [
      "Residual Sum of Squares (RSS): 45.35\n"
     ]
    }
   ],
   "source": [
    "# Calculate Residual Sum of Squares (RSS)\n",
    "rss = np.sum(np.square(y_test - y_pred))\n",
    "\n",
    "# Print the RSS rounded to two decimal places\n",
    "print(f\"Residual Sum of Squares (RSS): {rss:.2f}\")"
   ]
  },
  {
   "cell_type": "markdown",
   "id": "c85b45f5",
   "metadata": {},
   "source": [
    "> What is the Root Mean Squared Error (in three decimal places)?"
   ]
  },
  {
   "cell_type": "code",
   "execution_count": 16,
   "id": "f7b09ba4",
   "metadata": {},
   "outputs": [
    {
     "name": "stdout",
     "output_type": "stream",
     "text": [
      "Root Mean Squared Error (RMSE): 0.088\n"
     ]
    }
   ],
   "source": [
    "from sklearn.metrics import mean_squared_error\n",
    "\n",
    "# Calculate Root Mean Squared Error (RMSE)\n",
    "rmse = np.sqrt(mean_squared_error(y_test, y_pred))\n",
    "\n",
    "# Print the RMSE rounded to three decimal places\n",
    "print(f\"Root Mean Squared Error (RMSE): {rmse:.3f}\")"
   ]
  },
  {
   "cell_type": "markdown",
   "id": "f79856b4",
   "metadata": {},
   "source": [
    "> What is the Coefficient of Determination (in two decimal places)?"
   ]
  },
  {
   "cell_type": "code",
   "execution_count": 17,
   "id": "c1e45894",
   "metadata": {},
   "outputs": [
    {
     "name": "stdout",
     "output_type": "stream",
     "text": [
      "Coefficient of Determination (R^2): 0.15\n"
     ]
    }
   ],
   "source": [
    "from sklearn.metrics import r2_score\n",
    "\n",
    "# Calculate the coefficient of determination (R^2)\n",
    "r2 = r2_score(y_test, y_pred)\n",
    "\n",
    "# Print the R^2 value rounded to two decimal places\n",
    "print(f\"Coefficient of Determination (R^2): {r2:.2f}\")"
   ]
  },
  {
   "cell_type": "markdown",
   "id": "034acdf9",
   "metadata": {},
   "source": [
    "> Obtain the feature weights from your linear model above. Which features have the lowest and highest weights respectively?"
   ]
  },
  {
   "cell_type": "code",
   "execution_count": 18,
   "id": "15ae1324",
   "metadata": {},
   "outputs": [
    {
     "name": "stdout",
     "output_type": "stream",
     "text": [
      "        Feature    Weight\n",
      "3          RH_2 -0.456698\n",
      "18        T_out -0.321860\n",
      "2            T2 -0.236178\n",
      "16           T9 -0.189941\n",
      "15         RH_8 -0.157595\n",
      "20       RH_out -0.077671\n",
      "13         RH_7 -0.044614\n",
      "17         RH_9 -0.039800\n",
      "8            T5 -0.015657\n",
      "0            T1 -0.003281\n",
      "24          rv1  0.000770\n",
      "25          rv2  0.000770\n",
      "19  Press_mm_hg  0.006839\n",
      "12           T7  0.010319\n",
      "22   Visibility  0.012307\n",
      "9          RH_5  0.016006\n",
      "7          RH_4  0.026386\n",
      "6            T4  0.028981\n",
      "21    Windspeed  0.029183\n",
      "11         RH_6  0.038049\n",
      "5          RH_3  0.096048\n",
      "14           T8  0.101995\n",
      "23    Tdewpoint  0.117758\n",
      "10           T6  0.236425\n",
      "4            T3  0.290627\n",
      "1          RH_1  0.553547\n",
      "Feature with the lowest weight: RH_2\n",
      "Feature with the highest weight: RH_1\n"
     ]
    }
   ],
   "source": [
    "feature_weights = pd.DataFrame({'Feature': features.columns.tolist(), 'Weight': model.coef_})\n",
    "\n",
    "# Sort the feature weights in ascending order\n",
    "sorted_weights = feature_weights.sort_values(by='Weight')\n",
    "print(sorted_weights)\n",
    "\n",
    "# Print the feature with the lowest weight\n",
    "print(\"Feature with the lowest weight:\", sorted_weights.iloc[0]['Feature'])\n",
    "\n",
    "# Print the feature with the highest weight\n",
    "print(\"Feature with the highest weight:\", sorted_weights.iloc[-1]['Feature'])"
   ]
  },
  {
   "cell_type": "markdown",
   "id": "27e91c15",
   "metadata": {},
   "source": [
    "> Train a ridge regression model with an alpha value of 0.4. Is there any change to the root mean squared error (RMSE) when evaluated on the test set?"
   ]
  },
  {
   "cell_type": "code",
   "execution_count": 19,
   "id": "cffb68b9",
   "metadata": {},
   "outputs": [
    {
     "data": {
      "text/plain": [
       "Ridge(alpha=0.4)"
      ]
     },
     "execution_count": 19,
     "metadata": {},
     "output_type": "execute_result"
    }
   ],
   "source": [
    "from sklearn.linear_model import Ridge\n",
    "\n",
    "ridge_reg = Ridge(alpha = 0.4)\n",
    "ridge_reg.fit(X_train, y_train)"
   ]
  },
  {
   "cell_type": "code",
   "execution_count": 20,
   "id": "4af6b50a",
   "metadata": {},
   "outputs": [
    {
     "name": "stdout",
     "output_type": "stream",
     "text": [
      "New RMSE with Lasso regression: 0.088\n"
     ]
    }
   ],
   "source": [
    "# Predict the target variable using the Lasso model\n",
    "ridge_y_pred = ridge_reg.predict(X_test)\n",
    "\n",
    "# Calculate the RMSE with Lasso regression\n",
    "ridge_rmse = np.sqrt(mean_squared_error(y_test, ridge_y_pred))\n",
    "\n",
    "# Print the new RMSE rounded to three decimal places\n",
    "print(f\"New RMSE with Lasso regression: {ridge_rmse:.3f}\")"
   ]
  },
  {
   "cell_type": "markdown",
   "id": "b6c9f758",
   "metadata": {},
   "source": [
    "> The Root mean squared error(RMSE) of both the linear model and ridge model are the same, 0.088."
   ]
  },
  {
   "cell_type": "markdown",
   "id": "ff11f4a9",
   "metadata": {},
   "source": [
    "> Train a lasso regression model with an alpha value of 0.001 and obtain the new feature weights with it. How many of the features have non-zero feature weights?"
   ]
  },
  {
   "cell_type": "code",
   "execution_count": 21,
   "id": "d40df6f4",
   "metadata": {},
   "outputs": [
    {
     "name": "stdout",
     "output_type": "stream",
     "text": [
      "        Feature    Weight\n",
      "0            T1  0.000000\n",
      "1          RH_1  0.017880\n",
      "2            T2  0.000000\n",
      "3          RH_2 -0.000000\n",
      "4            T3  0.000000\n",
      "5          RH_3  0.000000\n",
      "6            T4 -0.000000\n",
      "7          RH_4  0.000000\n",
      "8            T5 -0.000000\n",
      "9          RH_5  0.000000\n",
      "10           T6  0.000000\n",
      "11         RH_6 -0.000000\n",
      "12           T7 -0.000000\n",
      "13         RH_7 -0.000000\n",
      "14           T8  0.000000\n",
      "15         RH_8 -0.000110\n",
      "16           T9 -0.000000\n",
      "17         RH_9 -0.000000\n",
      "18        T_out  0.000000\n",
      "19  Press_mm_hg -0.000000\n",
      "20       RH_out -0.049557\n",
      "21    Windspeed  0.002912\n",
      "22   Visibility  0.000000\n",
      "23    Tdewpoint  0.000000\n",
      "24          rv1 -0.000000\n",
      "25          rv2 -0.000000\n",
      "Number of features with non-zero weights: 4\n"
     ]
    }
   ],
   "source": [
    "from sklearn.linear_model import Lasso\n",
    "\n",
    "# Create an instance of Lasso regression with alpha=0.001\n",
    "lasso_model = Lasso(alpha=0.001)\n",
    "\n",
    "# Fit the Lasso model to the training data\n",
    "lasso_model.fit(X_train, y_train)\n",
    "\n",
    "# Get the feature weights\n",
    "lasso_feature_weights = pd.DataFrame({'Feature': features.columns.tolist(), 'Weight': lasso_model.coef_})\n",
    "print(lasso_feature_weights)\n",
    "\n",
    "# Count the number of non-zero feature weights\n",
    "non_zero_weights = len(lasso_feature_weights[lasso_feature_weights['Weight'] != 0])\n",
    "\n",
    "# Print the number of features with non-zero weights\n",
    "print(\"Number of features with non-zero weights:\", non_zero_weights)"
   ]
  },
  {
   "cell_type": "markdown",
   "id": "ae3c1d6f",
   "metadata": {},
   "source": [
    "> What is the new RMSE with the lasso regression? (Answer should be in three (3) decimal places)"
   ]
  },
  {
   "cell_type": "code",
   "execution_count": 22,
   "id": "8b7bf934",
   "metadata": {},
   "outputs": [
    {
     "name": "stdout",
     "output_type": "stream",
     "text": [
      "New RMSE with Lasso regression: 0.094\n"
     ]
    }
   ],
   "source": [
    "from sklearn.metrics import mean_squared_error\n",
    "\n",
    "# Predict the target variable using the Lasso model\n",
    "lasso_y_pred = lasso_model.predict(X_test)\n",
    "\n",
    "# Calculate the RMSE with Lasso regression\n",
    "lasso_rmse = np.sqrt(mean_squared_error(y_test, lasso_y_pred))\n",
    "\n",
    "# Print the new RMSE rounded to three decimal places\n",
    "print(f\"New RMSE with Lasso regression: {lasso_rmse:.3f}\")"
   ]
  }
 ],
 "metadata": {
  "kernelspec": {
   "display_name": "Python 3 (ipykernel)",
   "language": "python",
   "name": "python3"
  },
  "language_info": {
   "codemirror_mode": {
    "name": "ipython",
    "version": 3
   },
   "file_extension": ".py",
   "mimetype": "text/x-python",
   "name": "python",
   "nbconvert_exporter": "python",
   "pygments_lexer": "ipython3",
   "version": "3.9.12"
  }
 },
 "nbformat": 4,
 "nbformat_minor": 5
}
